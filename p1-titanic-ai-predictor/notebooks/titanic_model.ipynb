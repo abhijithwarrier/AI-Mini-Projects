{
 "cells": [
  {
   "cell_type": "code",
   "id": "initial_id",
   "metadata": {
    "collapsed": true,
    "ExecuteTime": {
     "end_time": "2025-07-08T18:12:26.557455Z",
     "start_time": "2025-07-08T18:12:25.423701Z"
    }
   },
   "source": [
    "# 1. Imports\n",
    "import pandas as pd\n",
    "from sklearn.model_selection import train_test_split\n",
    "from sklearn.pipeline import Pipeline\n",
    "from sklearn.compose import ColumnTransformer\n",
    "from sklearn.impute import SimpleImputer\n",
    "from sklearn.preprocessing import StandardScaler, OneHotEncoder\n",
    "from sklearn.ensemble import RandomForestClassifier\n",
    "from sklearn.metrics import classification_report, confusion_matrix, accuracy_score, precision_score, recall_score, f1_score"
   ],
   "outputs": [],
   "execution_count": 1
  },
  {
   "metadata": {
    "ExecuteTime": {
     "end_time": "2025-07-08T18:12:48.150134Z",
     "start_time": "2025-07-08T18:12:48.141552Z"
    }
   },
   "cell_type": "code",
   "source": [
    "# 2. Load Dataset\n",
    "url = '../data/titanic.csv'\n",
    "df = pd.read_csv(url)"
   ],
   "id": "1699337fb756fef7",
   "outputs": [],
   "execution_count": 4
  },
  {
   "metadata": {
    "ExecuteTime": {
     "end_time": "2025-07-08T18:12:51.123748Z",
     "start_time": "2025-07-08T18:12:51.116785Z"
    }
   },
   "cell_type": "code",
   "source": [
    "# 3. Drop unnecessary columns\n",
    "df.drop(columns=['PassengerId', 'Name', 'Ticket', 'Cabin'], inplace=True)\n",
    "\n",
    "# 4. Split features & target\n",
    "X = df.drop('Survived', axis=1)\n",
    "y = df['Survived']"
   ],
   "id": "d5d1171d20bbd6a3",
   "outputs": [],
   "execution_count": 5
  },
  {
   "metadata": {
    "ExecuteTime": {
     "end_time": "2025-07-08T18:12:53.516551Z",
     "start_time": "2025-07-08T18:12:53.513096Z"
    }
   },
   "cell_type": "code",
   "source": [
    "# 5. Preprocessing\n",
    "numeric_features = ['Age', 'Fare']\n",
    "categorical_features = ['Pclass', 'Sex', 'SibSp', 'Parch', 'Embarked']\n",
    "\n",
    "numeric_transformer = Pipeline(steps=[\n",
    "    ('imputer', SimpleImputer(strategy='median')),\n",
    "    ('scaler', StandardScaler())\n",
    "])\n",
    "\n",
    "categorical_transformer = Pipeline(steps=[\n",
    "    ('imputer', SimpleImputer(strategy='most_frequent')),\n",
    "    ('onehot', OneHotEncoder(handle_unknown='ignore'))\n",
    "])\n",
    "\n",
    "preprocessor = ColumnTransformer(transformers=[\n",
    "    ('num', numeric_transformer, numeric_features),\n",
    "    ('cat', categorical_transformer, categorical_features)\n",
    "])"
   ],
   "id": "3ac417c15518afd9",
   "outputs": [],
   "execution_count": 6
  },
  {
   "metadata": {
    "ExecuteTime": {
     "end_time": "2025-07-08T18:12:56.809861Z",
     "start_time": "2025-07-08T18:12:56.807547Z"
    }
   },
   "cell_type": "code",
   "source": [
    "# 6. Full Pipeline\n",
    "clf = Pipeline(steps=[\n",
    "    ('preprocessor', preprocessor),\n",
    "    ('classifier', RandomForestClassifier(random_state=42))\n",
    "])"
   ],
   "id": "3ac2b3248f6b36c5",
   "outputs": [],
   "execution_count": 7
  },
  {
   "metadata": {
    "ExecuteTime": {
     "end_time": "2025-07-08T18:12:59.002890Z",
     "start_time": "2025-07-08T18:12:58.903137Z"
    }
   },
   "cell_type": "code",
   "source": [
    "# 7. Split Data\n",
    "X_train, X_test, y_train, y_test = train_test_split(X, y, test_size=0.2, random_state=42)\n",
    "\n",
    "# 8. Train Model\n",
    "clf.fit(X_train, y_train)\n",
    "\n",
    "# 9. Predict and Evaluate\n",
    "y_pred = clf.predict(X_test)"
   ],
   "id": "73218e7e0266fb47",
   "outputs": [],
   "execution_count": 8
  },
  {
   "metadata": {
    "ExecuteTime": {
     "end_time": "2025-07-08T18:13:00.772407Z",
     "start_time": "2025-07-08T18:13:00.762458Z"
    }
   },
   "cell_type": "code",
   "source": [
    "print(\"Accuracy :\", accuracy_score(y_test, y_pred))\n",
    "print(\"Precision:\", precision_score(y_test, y_pred))\n",
    "print(\"Recall   :\", recall_score(y_test, y_pred))\n",
    "print(\"F1 Score :\", f1_score(y_test, y_pred))\n",
    "print(\"\\nClassification Report:\\n\", classification_report(y_test, y_pred))\n",
    "print(\"\\nConfusion Matrix:\\n\", confusion_matrix(y_test, y_pred))"
   ],
   "id": "6eafe018cf8efb92",
   "outputs": [
    {
     "name": "stdout",
     "output_type": "stream",
     "text": [
      "Accuracy : 0.8212290502793296\n",
      "Precision: 0.8\n",
      "Recall   : 0.7567567567567568\n",
      "F1 Score : 0.7777777777777778\n",
      "\n",
      "Classification Report:\n",
      "               precision    recall  f1-score   support\n",
      "\n",
      "           0       0.83      0.87      0.85       105\n",
      "           1       0.80      0.76      0.78        74\n",
      "\n",
      "    accuracy                           0.82       179\n",
      "   macro avg       0.82      0.81      0.81       179\n",
      "weighted avg       0.82      0.82      0.82       179\n",
      "\n",
      "\n",
      "Confusion Matrix:\n",
      " [[91 14]\n",
      " [18 56]]\n"
     ]
    }
   ],
   "execution_count": 9
  }
 ],
 "metadata": {
  "kernelspec": {
   "display_name": "Python 3",
   "language": "python",
   "name": "python3"
  },
  "language_info": {
   "codemirror_mode": {
    "name": "ipython",
    "version": 2
   },
   "file_extension": ".py",
   "mimetype": "text/x-python",
   "name": "python",
   "nbconvert_exporter": "python",
   "pygments_lexer": "ipython2",
   "version": "2.7.6"
  }
 },
 "nbformat": 4,
 "nbformat_minor": 5
}
