{
 "cells": [
  {
   "cell_type": "code",
   "id": "initial_id",
   "metadata": {
    "collapsed": true,
    "ExecuteTime": {
     "end_time": "2025-07-17T17:23:14.745513Z",
     "start_time": "2025-07-17T17:23:12.675253Z"
    }
   },
   "source": [
    "# 1. Imports\n",
    "import tensorflow as tf\n",
    "import matplotlib.pyplot as plt\n",
    "import numpy as np"
   ],
   "outputs": [],
   "execution_count": 1
  },
  {
   "metadata": {
    "ExecuteTime": {
     "end_time": "2025-07-17T17:23:15.690099Z",
     "start_time": "2025-07-17T17:23:15.489471Z"
    }
   },
   "cell_type": "code",
   "source": [
    "# Load Fashion MNIST and preprocess\n",
    "(x_train, y_train), (x_test, y_test) = tf.keras.datasets.fashion_mnist.load_data()\n",
    "x_train = x_train.reshape(-1, 28, 28, 1).astype(\"float32\") / 255.0\n",
    "x_test = x_test.reshape(-1, 28, 28, 1).astype(\"float32\") / 255.0"
   ],
   "id": "601a28fa8698accd",
   "outputs": [],
   "execution_count": 2
  },
  {
   "metadata": {
    "ExecuteTime": {
     "end_time": "2025-07-17T17:23:17.604437Z",
     "start_time": "2025-07-17T17:23:17.602531Z"
    }
   },
   "cell_type": "code",
   "source": [
    "# Class names for display\n",
    "class_names = ['T-shirt/top', 'Trouser', 'Pullover', 'Dress', 'Coat',\n",
    "               'Sandal', 'Shirt', 'Sneaker', 'Bag', 'Ankle boot']"
   ],
   "id": "4a14464460c07a3b",
   "outputs": [],
   "execution_count": 3
  },
  {
   "metadata": {
    "ExecuteTime": {
     "end_time": "2025-07-17T17:23:19.330335Z",
     "start_time": "2025-07-17T17:23:19.270443Z"
    }
   },
   "cell_type": "code",
   "source": [
    "# Data pipeline\n",
    "train_ds = tf.data.Dataset.from_tensor_slices((x_train, y_train)).shuffle(1000).batch(64).prefetch(tf.data.AUTOTUNE)\n",
    "test_ds = tf.data.Dataset.from_tensor_slices((x_test, y_test)).batch(64).prefetch(tf.data.AUTOTUNE)"
   ],
   "id": "d26c102bb434324b",
   "outputs": [],
   "execution_count": 4
  },
  {
   "metadata": {
    "ExecuteTime": {
     "end_time": "2025-07-17T17:23:20.974082Z",
     "start_time": "2025-07-17T17:23:20.946184Z"
    }
   },
   "cell_type": "code",
   "source": [
    "# Build model\n",
    "def build_model():\n",
    "    return tf.keras.Sequential([\n",
    "        tf.keras.layers.Conv2D(32, 3, activation='relu', input_shape=(28, 28, 1)),\n",
    "        tf.keras.layers.MaxPooling2D(),\n",
    "        tf.keras.layers.Conv2D(64, 3, activation='relu'),\n",
    "        tf.keras.layers.MaxPooling2D(),\n",
    "        tf.keras.layers.Flatten(),\n",
    "        tf.keras.layers.Dropout(0.3),\n",
    "        tf.keras.layers.Dense(128, activation='relu'),\n",
    "        tf.keras.layers.Dense(10, activation='softmax')\n",
    "    ])\n",
    "\n",
    "model = build_model()\n",
    "model.compile(optimizer='adam', loss='sparse_categorical_crossentropy', metrics=['accuracy'])"
   ],
   "id": "cbc39c99807dd3d8",
   "outputs": [
    {
     "name": "stderr",
     "output_type": "stream",
     "text": [
      "/Library/Frameworks/Python.framework/Versions/3.11/lib/python3.11/site-packages/keras/src/layers/convolutional/base_conv.py:113: UserWarning: Do not pass an `input_shape`/`input_dim` argument to a layer. When using Sequential models, prefer using an `Input(shape)` object as the first layer in the model instead.\n",
      "  super().__init__(activity_regularizer=activity_regularizer, **kwargs)\n"
     ]
    }
   ],
   "execution_count": 5
  },
  {
   "metadata": {
    "ExecuteTime": {
     "end_time": "2025-07-17T17:24:15.734674Z",
     "start_time": "2025-07-17T17:23:22.419125Z"
    }
   },
   "cell_type": "code",
   "source": [
    "# Train\n",
    "model.fit(train_ds, epochs=5)"
   ],
   "id": "7b5c247902b24d11",
   "outputs": [
    {
     "name": "stdout",
     "output_type": "stream",
     "text": [
      "Epoch 1/5\n",
      "\u001B[1m938/938\u001B[0m \u001B[32m━━━━━━━━━━━━━━━━━━━━\u001B[0m\u001B[37m\u001B[0m \u001B[1m9s\u001B[0m 9ms/step - accuracy: 0.7396 - loss: 0.7151\n",
      "Epoch 2/5\n",
      "\u001B[1m938/938\u001B[0m \u001B[32m━━━━━━━━━━━━━━━━━━━━\u001B[0m\u001B[37m\u001B[0m \u001B[1m10s\u001B[0m 11ms/step - accuracy: 0.8709 - loss: 0.3578\n",
      "Epoch 3/5\n",
      "\u001B[1m938/938\u001B[0m \u001B[32m━━━━━━━━━━━━━━━━━━━━\u001B[0m\u001B[37m\u001B[0m \u001B[1m11s\u001B[0m 12ms/step - accuracy: 0.8885 - loss: 0.3065\n",
      "Epoch 4/5\n",
      "\u001B[1m938/938\u001B[0m \u001B[32m━━━━━━━━━━━━━━━━━━━━\u001B[0m\u001B[37m\u001B[0m \u001B[1m12s\u001B[0m 13ms/step - accuracy: 0.8979 - loss: 0.2762\n",
      "Epoch 5/5\n",
      "\u001B[1m938/938\u001B[0m \u001B[32m━━━━━━━━━━━━━━━━━━━━\u001B[0m\u001B[37m\u001B[0m \u001B[1m12s\u001B[0m 12ms/step - accuracy: 0.9061 - loss: 0.2494\n"
     ]
    },
    {
     "data": {
      "text/plain": [
       "<keras.src.callbacks.history.History at 0x122ab5d90>"
      ]
     },
     "execution_count": 6,
     "metadata": {},
     "output_type": "execute_result"
    }
   ],
   "execution_count": 6
  },
  {
   "metadata": {
    "ExecuteTime": {
     "end_time": "2025-07-17T17:24:35.999978Z",
     "start_time": "2025-07-17T17:24:35.519357Z"
    }
   },
   "cell_type": "code",
   "source": [
    "# Evaluate on test data\n",
    "loss, acc = model.evaluate(test_ds)\n",
    "print(f\"✅ Final Test Accuracy: {acc:.4f}\")\n",
    "print(f\"🧪 Final Test Loss: {loss:.4f}\")"
   ],
   "id": "d98179b10f4ffdea",
   "outputs": [
    {
     "name": "stdout",
     "output_type": "stream",
     "text": [
      "\u001B[1m157/157\u001B[0m \u001B[32m━━━━━━━━━━━━━━━━━━━━\u001B[0m\u001B[37m\u001B[0m \u001B[1m0s\u001B[0m 3ms/step - accuracy: 0.9021 - loss: 0.2746\n",
      "✅ Final Test Accuracy: 0.9017\n",
      "🧪 Final Test Loss: 0.2702\n"
     ]
    }
   ],
   "execution_count": 8
  },
  {
   "metadata": {
    "ExecuteTime": {
     "end_time": "2025-07-17T17:24:38.115203Z",
     "start_time": "2025-07-17T17:24:37.482305Z"
    }
   },
   "cell_type": "code",
   "source": [
    "# Save model\n",
    "model.save(\"fashion_mnist_model.h5\")\n",
    "\n",
    "# Load saved model\n",
    "loaded_model = tf.keras.models.load_model(\"fashion_mnist_model.h5\")\n",
    "\n",
    "# Evaluate loaded model\n",
    "loss, acc = loaded_model.evaluate(test_ds)\n",
    "print(f\"✅ Loaded Model Accuracy: {acc:.4f}\")"
   ],
   "id": "4d619d8fbd774c46",
   "outputs": [
    {
     "name": "stderr",
     "output_type": "stream",
     "text": [
      "WARNING:absl:You are saving your model as an HDF5 file via `model.save()` or `keras.saving.save_model(model)`. This file format is considered legacy. We recommend using instead the native Keras format, e.g. `model.save('my_model.keras')` or `keras.saving.save_model(model, 'my_model.keras')`. \n",
      "WARNING:absl:Compiled the loaded model, but the compiled metrics have yet to be built. `model.compile_metrics` will be empty until you train or evaluate the model.\n"
     ]
    },
    {
     "name": "stdout",
     "output_type": "stream",
     "text": [
      "\u001B[1m157/157\u001B[0m \u001B[32m━━━━━━━━━━━━━━━━━━━━\u001B[0m\u001B[37m\u001B[0m \u001B[1m1s\u001B[0m 3ms/step - accuracy: 0.9021 - loss: 0.2746\n",
      "✅ Loaded Model Accuracy: 0.9017\n"
     ]
    }
   ],
   "execution_count": 9
  },
  {
   "metadata": {
    "ExecuteTime": {
     "end_time": "2025-07-17T17:24:39.906803Z",
     "start_time": "2025-07-17T17:24:39.757336Z"
    }
   },
   "cell_type": "code",
   "source": [
    "# Predict and visualize sample\n",
    "num_samples = 5\n",
    "sample_images = x_test[:num_samples]\n",
    "sample_labels = y_test[:num_samples]\n",
    "predictions = loaded_model.predict(sample_images)\n",
    "\n",
    "plt.figure(figsize=(10, 4))\n",
    "for i in range(num_samples):\n",
    "    plt.subplot(1, num_samples, i + 1)\n",
    "    plt.imshow(sample_images[i].reshape(28, 28), cmap='gray')\n",
    "    plt.axis('off')\n",
    "    pred_label = class_names[np.argmax(predictions[i])]\n",
    "    true_label = class_names[sample_labels[i]]\n",
    "    color = \"green\" if pred_label == true_label else \"red\"\n",
    "    plt.title(f\"Pred: {pred_label}\\nTrue: {true_label}\", color=color)\n",
    "plt.tight_layout()\n",
    "plt.show()"
   ],
   "id": "c0f5d3b962a52cae",
   "outputs": [
    {
     "name": "stdout",
     "output_type": "stream",
     "text": [
      "\u001B[1m1/1\u001B[0m \u001B[32m━━━━━━━━━━━━━━━━━━━━\u001B[0m\u001B[37m\u001B[0m \u001B[1m0s\u001B[0m 27ms/step\n"
     ]
    },
    {
     "data": {
      "text/plain": [
       "<Figure size 1000x400 with 5 Axes>"
      ],
      "image/png": "[encoded data removed]"
     },
     "metadata": {},
     "output_type": "display_data"
    }
   ],
   "execution_count": 10
  },
  {
   "metadata": {},
   "cell_type": "code",
   "outputs": [],
   "execution_count": null,
   "source": "",
   "id": "c5871d2c6ea93ee0"
  }
 ],
 "metadata": {
  "kernelspec": {
   "display_name": "Python 3",
   "language": "python",
   "name": "python3"
  },
  "language_info": {
   "codemirror_mode": {
    "name": "ipython",
    "version": 2
   },
   "file_extension": ".py",
   "mimetype": "text/x-python",
   "name": "python",
   "nbconvert_exporter": "python",
   "pygments_lexer": "ipython2",
   "version": "2.7.6"
  }
 },
 "nbformat": 4,
 "nbformat_minor": 5
}
